{
 "cells": [
  {
   "attachments": {},
   "cell_type": "markdown",
   "metadata": {},
   "source": [
    "Даны значения зарплат из выборки выпускников: 100, 80, 75, 77, 89, 33, 45, 25, 65, 17, 30, 24, 57, 55, 70, 75, 65, 84, 90, 150. Посчитать (желательно без использования статистических методов наподобие std, var, mean) среднее арифметическое, среднее квадратичное отклонение, смещенную и несмещенную оценки дисперсий для данной выборки."
   ]
  },
  {
   "cell_type": "code",
   "execution_count": 22,
   "metadata": {},
   "outputs": [],
   "source": [
    "import numpy as np\n",
    "x = np.array([ 17,  24,  25,  30,  33,  45,  55,  57,  65,  65,  70,  75,  75,\n",
    "        77,  80,  84,  89,  90, 100, 150])\n",
    "n = 20\n",
    "N_1 = 20/2\n",
    "N_2 = (20/2)+1\n",
    "N_1 = 9 # так как счет начинается с нуля, соответственно на 1 меньше \n",
    "N_2 = 10 # так как счет начинается с нуля, соответственно на 1 меньше  \n"
   ]
  },
  {
   "cell_type": "code",
   "execution_count": 23,
   "metadata": {},
   "outputs": [
    {
     "data": {
      "text/plain": [
       "67.5"
      ]
     },
     "execution_count": 23,
     "metadata": {},
     "output_type": "execute_result"
    }
   ],
   "source": [
    "x = np.array([ 17,  24,  25,  30,  33,  45,  55,  57,  65,  65,  70,  75,  75,\n",
    "        77,  80,  84,  89,  90, 100, 150])\n",
    "X_sr = (x[9]+x[10])/2\n",
    "\n",
    "X_sr "
   ]
  },
  {
   "attachments": {},
   "cell_type": "markdown",
   "metadata": {},
   "source": [
    "среднее арифметическое = 67.5\n",
    "X_sr = 67,5\n",
    "n = 20\n",
    "i = 1\n",
    "Далее находим среднеквадратичное отклонение и смещенные - не смещенные дисперсии.\n",
    "S^2 = ((x_i - X_sr)^2 + (x_n - X_sr)^2)/n-1"
   ]
  },
  {
   "cell_type": "code",
   "execution_count": 19,
   "metadata": {},
   "outputs": [
    {
     "name": "stdout",
     "output_type": "stream",
     "text": [
      "Несмещенная дисперсия = 954.95\n",
      "Смещенная дисперсия = 953.95\n"
     ]
    }
   ],
   "source": [
    "\n",
    "S_difference = sum([(i - X_sr) ** 2 for i in x])#несмещенная дисперсия.\n",
    "S_difference_1 = S_difference / n\n",
    "print(f'Несмещенная дисперсия = {S_difference_1}')\n",
    "\n",
    "S_difference = sum([(i - X_sr) ** 2 for i in x])#смещенная дисперсия.\n",
    "S_difference_2 = S_difference / n-1\n",
    "print(f'Смещенная дисперсия = {S_difference_2}')"
   ]
  },
  {
   "cell_type": "code",
   "execution_count": 20,
   "metadata": {},
   "outputs": [
    {
     "name": "stdout",
     "output_type": "stream",
     "text": [
      "Квадратный корень из числа 954.95 это 30.90226528913374\n",
      "Квадратный корень из числа 953.95 это 30.886081007470015\n"
     ]
    }
   ],
   "source": [
    "num_1 = 954.95\n",
    "num_2 = 953.95\n",
    "sqrt_1 = num_1 ** (0.5)\n",
    "sqrt_2 = num_2 ** (0.5)\n",
    "print(\"Квадратный корень из числа \"+str(num_1)+\" это \"+str(sqrt_1))\n",
    "print(\"Квадратный корень из числа \"+str(num_2)+\" это \"+str(sqrt_2))"
   ]
  }
 ],
 "metadata": {
  "kernelspec": {
   "display_name": ".folder",
   "language": "python",
   "name": "python3"
  },
  "language_info": {
   "codemirror_mode": {
    "name": "ipython",
    "version": 3
   },
   "file_extension": ".py",
   "mimetype": "text/x-python",
   "name": "python",
   "nbconvert_exporter": "python",
   "pygments_lexer": "ipython3",
   "version": "3.11.2"
  },
  "orig_nbformat": 4,
  "vscode": {
   "interpreter": {
    "hash": "473553e28e5b363d575e92da535f1f161aa2132f3ee15a8dbf1484ed06349749"
   }
  }
 },
 "nbformat": 4,
 "nbformat_minor": 2
}
