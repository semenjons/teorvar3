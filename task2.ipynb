{
 "cells": [
  {
   "attachments": {},
   "cell_type": "markdown",
   "metadata": {},
   "source": [
    "В первом ящике находится 8 мячей, из которых 5 - белые. Во втором ящике - 12 мячей, из которых 5 белых.\n",
    " Из первого ящика вытаскивают случайным образом два мяча, из второго - 4. Какова вероятность того, что 3 мяча белые? "
   ]
  },
  {
   "cell_type": "code",
   "execution_count": 13,
   "metadata": {},
   "outputs": [
    {
     "data": {
      "text/plain": [
       "(0.10714285714285714,\n",
       " 0.5357142857142857,\n",
       " 0.35714285714285715,\n",
       " 0.1414141414141414,\n",
       " 0.42424242424242425,\n",
       " 0.35353535353535354)"
      ]
     },
     "execution_count": 13,
     "metadata": {},
     "output_type": "execute_result"
    }
   ],
   "source": [
    "from math import factorial\n",
    "w = factorial(3) // (factorial (2) * factorial (3-2) )\n",
    "\n",
    "R = factorial(8) // (factorial (2) * factorial (8-2)) \n",
    "\n",
    "u = factorial(5) // (factorial (1) * factorial (5-1) )\n",
    "i = factorial(3) // (factorial (1) * factorial (3-1) )\n",
    "O = R\n",
    "\n",
    "y = factorial(5) // (factorial (2) * factorial (5-2) )\n",
    "\n",
    "# R для трех исходов одинаковый\n",
    "\n",
    "c_1 = w/R\n",
    "c_2 = (u*i)/R\n",
    "c_3 = y/R\n",
    "\n",
    "\n",
    "p = factorial(5) // (factorial (3) * factorial (5-3) )\n",
    "s = factorial(7) // (factorial (1) * factorial (7-1) )\n",
    "H = factorial(12) // (factorial (4) * factorial (12-4)) \n",
    "\n",
    "j = factorial(5) // (factorial (2) * factorial (5-2) )\n",
    "n = factorial(7) // (factorial (2) * factorial (7-2) )\n",
    "\n",
    "k = factorial(5) // (factorial (1) * factorial (5-1) )\n",
    "l = factorial(7) // (factorial (3) * factorial (7-3) )\n",
    "\n",
    "\n",
    "# H для трех исходов одинаковый\n",
    "c_4 =(p*s)/H\n",
    "c_5 =(j*n)/H\n",
    "c_6 =(k*l)/H\n",
    "\n",
    "\n",
    "c_1, c_2, c_3, c_4, c_5, c_6"
   ]
  },
  {
   "cell_type": "code",
   "execution_count": 16,
   "metadata": {},
   "outputs": [
    {
     "name": "stdout",
     "output_type": "stream",
     "text": [
      "Вероятность того, что 3 мяча белые равна 0.3686868686868687\n"
     ]
    }
   ],
   "source": [
    "P_all = (c_1*c_4) + (c_2 *c_5) + (c_3 * c_6)\n",
    "print(\"Вероятность того, что 3 мяча белые равна \"+str(P_all))"
   ]
  }
 ],
 "metadata": {
  "kernelspec": {
   "display_name": ".folder",
   "language": "python",
   "name": "python3"
  },
  "language_info": {
   "codemirror_mode": {
    "name": "ipython",
    "version": 3
   },
   "file_extension": ".py",
   "mimetype": "text/x-python",
   "name": "python",
   "nbconvert_exporter": "python",
   "pygments_lexer": "ipython3",
   "version": "3.11.2"
  },
  "orig_nbformat": 4,
  "vscode": {
   "interpreter": {
    "hash": "473553e28e5b363d575e92da535f1f161aa2132f3ee15a8dbf1484ed06349749"
   }
  }
 },
 "nbformat": 4,
 "nbformat_minor": 2
}
