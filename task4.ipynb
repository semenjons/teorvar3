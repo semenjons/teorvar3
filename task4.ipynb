{
 "cells": [
  {
   "attachments": {},
   "cell_type": "markdown",
   "metadata": {},
   "source": [
    "В университет на факультеты A и B поступило равное количество студентов, а на факультет C студентов поступило столько же, сколько на A и B вместе. Вероятность того, что студент факультета A сдаст первую сессию, равна 0.8. Для студента факультета B эта вероятность равна 0.7, а для студента факультета C - 0.9. Студент сдал первую сессию. Какова вероятность, что он учится: a). на факультете A б). на факультете B в). на факультете C?"
   ]
  },
  {
   "cell_type": "code",
   "execution_count": 4,
   "metadata": {},
   "outputs": [
    {
     "data": {
      "text/plain": [
       "0.825"
      ]
     },
     "execution_count": 4,
     "metadata": {},
     "output_type": "execute_result"
    }
   ],
   "source": [
    "p_A = 0.8\n",
    "p_B = 0.7\n",
    "p_C = 0.9\n",
    "P_a = 1/4\n",
    "P_b = 1/4\n",
    "P_c = 1/2\n",
    "\n",
    "A = ((1/4)*0.8)+((1/4)*0.7)+((1/2)*0.9)\n",
    "A"
   ]
  },
  {
   "cell_type": "code",
   "execution_count": 9,
   "metadata": {},
   "outputs": [
    {
     "name": "stdout",
     "output_type": "stream",
     "text": [
      "Вероятность того, что он учится на факультете A = 24.242424242424246 %\n",
      "Вероятность того, что он учится на факультете B = 21.21212121212121 %\n",
      "Вероятность того, что он учится на факультете C = 54.545454545454554 %\n"
     ]
    }
   ],
   "source": [
    "P_1 = ((1/4)*0.8)/A\n",
    "P_2 = ((1/4)*0.7)/A\n",
    "P_3 = ((1/2)*0.9)/A\n",
    "\n",
    "print(\"Вероятность того, что он учится на факультете A = \"+str(P_1*100) +\" %\")\n",
    "print(\"Вероятность того, что он учится на факультете B = \"+str(P_2*100) +\" %\")\n",
    "print(\"Вероятность того, что он учится на факультете C = \"+str(P_3*100) +\" %\")\n"
   ]
  }
 ],
 "metadata": {
  "kernelspec": {
   "display_name": ".folder",
   "language": "python",
   "name": "python3"
  },
  "language_info": {
   "codemirror_mode": {
    "name": "ipython",
    "version": 3
   },
   "file_extension": ".py",
   "mimetype": "text/x-python",
   "name": "python",
   "nbconvert_exporter": "python",
   "pygments_lexer": "ipython3",
   "version": "3.11.2"
  },
  "orig_nbformat": 4,
  "vscode": {
   "interpreter": {
    "hash": "473553e28e5b363d575e92da535f1f161aa2132f3ee15a8dbf1484ed06349749"
   }
  }
 },
 "nbformat": 4,
 "nbformat_minor": 2
}
